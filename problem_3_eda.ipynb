{
  "nbformat": 4,
  "nbformat_minor": 0,
  "metadata": {
    "colab": {
      "provenance": [],
      "toc_visible": true
    },
    "kernelspec": {
      "name": "python3",
      "display_name": "Python 3"
    },
    "language_info": {
      "name": "python"
    }
  },
  "cells": [
    {
      "cell_type": "markdown",
      "source": [
        "# Imports"
      ],
      "metadata": {
        "id": "Z3Haui7qZvGj"
      }
    },
    {
      "cell_type": "code",
      "source": [
        "!pip install streamlit"
      ],
      "metadata": {
        "id": "wfwoYYKGZaAk"
      },
      "execution_count": null,
      "outputs": []
    },
    {
      "cell_type": "code",
      "source": [
        "!pip install streamlit_lightweight_charts"
      ],
      "metadata": {
        "id": "vrLht0UAlLIF"
      },
      "execution_count": null,
      "outputs": []
    },
    {
      "cell_type": "code",
      "source": [
        "!wget http://prdownloads.sourceforge.net/ta-lib/ta-lib-0.4.0-src.tar.gz\n",
        "\n",
        "!tar -xzf ta-lib-0.4.0-src.tar.gz\n",
        "%cd ta-lib/\n",
        "!./configure --prefix=$HOME\n",
        "!make\n",
        "!make install\n",
        "\n",
        "!TA_LIBRARY_PATH=~/lib TA_INCLUDE_PATH=~/include pip install ta-lib"
      ],
      "metadata": {
        "id": "q4zlnAZml5If"
      },
      "execution_count": null,
      "outputs": []
    },
    {
      "cell_type": "code",
      "source": [
        "!npm install localtunnel"
      ],
      "metadata": {
        "id": "RI4Sc6tFaSq-"
      },
      "execution_count": null,
      "outputs": []
    },
    {
      "cell_type": "code",
      "source": [
        "!pip install --force-reinstall --no-deps bokeh==2.4.3"
      ],
      "metadata": {
        "id": "rjd6sPNswVgQ"
      },
      "execution_count": null,
      "outputs": []
    },
    {
      "cell_type": "code",
      "execution_count": 7,
      "metadata": {
        "id": "xbRlO7wJYrSb"
      },
      "outputs": [],
      "source": [
        "import pandas as pd\n",
        "import matplotlib.pyplot as plt\n",
        "import seaborn as sns\n",
        "import streamlit as st\n",
        "from bokeh.plotting import figure, column\n",
        "import talib"
      ]
    },
    {
      "cell_type": "markdown",
      "source": [
        "# First Glance At Dataset"
      ],
      "metadata": {
        "id": "qkWT8pNwbslh"
      }
    },
    {
      "cell_type": "markdown",
      "source": [
        "# EDA"
      ],
      "metadata": {
        "id": "6JZ7cldFZtWu"
      }
    },
    {
      "cell_type": "markdown",
      "source": [
        "## Dataset"
      ],
      "metadata": {
        "id": "TLUyHHHZKr4Q"
      }
    },
    {
      "cell_type": "code",
      "source": [
        "%%writefile Dataset_Overview.py\n",
        "\n",
        "import pandas as pd\n",
        "import streamlit as st\n",
        "from bokeh.plotting import figure, column\n",
        "import talib\n",
        "import datetime\n",
        "\n",
        "# Setting Streamlit Page Config\n",
        "st.set_page_config(layout='wide', page_title='Dataset Overview')\n",
        "\n",
        "# Dataset\n",
        "@st.cache_data\n",
        "def load_dataset():\n",
        "  df = pd.read_csv('/content/final.csv', index_col=0, parse_dates=['Date']).drop(columns=['time_stamp_x', 'time_stamp_y']).rename(columns={'Open': 'xmr_open',\n",
        "                                                                                                                                    'Close': 'xmr_close',\n",
        "                                                                                                                                    'High': 'xmr_high',\n",
        "                                                                                                                                    'Low': 'xmr_low',\n",
        "                                                                                                                                    'Adj Close': 'xmr_adj_close',\n",
        "                                                                                                                                    'Volume': 'xmr_volume'})\n",
        "  df['xmr_bar_color'] = df[['xmr_open', 'xmr_close']].apply(lambda o: 'red' if o.xmr_open > o.xmr_close else 'green', axis=1)\n",
        "  df['date_str'] = df['Date'].astype(str)\n",
        "\n",
        "  # Indicators\n",
        "  df['xmr_sma'] = talib.SMA(df['xmr_close'], timeperiod=3)\n",
        "  df['xmr_ma'] = talib.MA(df['xmr_close'], timeperiod=3)\n",
        "  df['xmr_ema'] = talib.EMA(df['xmr_close'], timeperiod=3)\n",
        "  df['xmr_rsi'] = talib.RSI(df['xmr_close'], timeperiod=3)\n",
        "  df['xmr_mom'] = talib.MOM(df['xmr_close'], timeperiod=3)\n",
        "  df['xmr_dema'] = talib.DEMA(df['xmr_close'], timeperiod=3)\n",
        "  df['xmr_tema'] = talib.TEMA(df['xmr_close'], timeperiod=3)\n",
        "\n",
        "  return df\n",
        "\n",
        "# Dataset Overview\n",
        "st.header(\"Dataset Overview\")\n",
        "df = load_dataset()\n",
        "\n",
        "\n",
        "st.sidebar.subheader('Date Range Selection')\n",
        "col1, col2 = st.sidebar.columns(2)\n",
        "with col1:\n",
        "  start_date = st.date_input(label='Start Date: ', value=datetime.date(2017, 11, 9))\n",
        "with col2:\n",
        "  end_date = st.date_input(label='End Date: ', value=datetime.date(2023, 10, 7))\n",
        "\n",
        "\n",
        "\n",
        "sub_df = df.set_index('Date').loc[str(start_date):str(end_date)]\n",
        "sub_df = sub_df.reset_index()\n",
        "\n",
        "st.sidebar.subheader('Select Columns:')\n",
        "columns = st.sidebar.multiselect(label='', options=sub_df.columns, default=list(sub_df.columns))\n",
        "\n",
        "st.dataframe(sub_df[columns])\n"
      ],
      "metadata": {
        "colab": {
          "base_uri": "https://localhost:8080/"
        },
        "id": "pzmb1K5EZ0MO",
        "outputId": "e9d04428-49b5-4253-d144-d0cbb936375e"
      },
      "execution_count": 49,
      "outputs": [
        {
          "output_type": "stream",
          "name": "stdout",
          "text": [
            "Overwriting Dataset_Overview.py\n"
          ]
        }
      ]
    },
    {
      "cell_type": "markdown",
      "source": [
        "## XMR"
      ],
      "metadata": {
        "id": "s0BH6G0eKp0M"
      }
    },
    {
      "cell_type": "code",
      "source": [
        "!mkdir -p pages"
      ],
      "metadata": {
        "id": "uBRAX378GbPX"
      },
      "execution_count": 50,
      "outputs": []
    },
    {
      "cell_type": "code",
      "source": [
        "%%writefile pages/XMR_Candlestick_Analysis.py\n",
        "\n",
        "\n",
        "\n",
        "import pandas as pd\n",
        "import streamlit as st\n",
        "from bokeh.plotting import figure, column\n",
        "import talib\n",
        "import datetime\n",
        "\n",
        "# Setting Streamlit Page Config\n",
        "st.set_page_config(layout='wide', page_title=\"XMR Candlestick Analysis\")\n",
        "\n",
        "# Dataset\n",
        "@st.cache_data\n",
        "def load_dataset():\n",
        "  df = pd.read_csv('/content/final.csv', index_col=0, parse_dates=['Date']).drop(columns=['time_stamp_x', 'time_stamp_y']).rename(columns={'Open': 'xmr_open',\n",
        "                                                                                                                                    'Close': 'xmr_close',\n",
        "                                                                                                                                    'High': 'xmr_high',\n",
        "                                                                                                                                    'Low': 'xmr_low',\n",
        "                                                                                                                                    'Adj Close': 'xmr_adj_close',\n",
        "                                                                                                                                    'Volume': 'xmr_volume'})\n",
        "  df['xmr_bar_color'] = df[['xmr_open', 'xmr_close']].apply(lambda o: 'red' if o.xmr_open > o.xmr_close else 'green', axis=1)\n",
        "  df['date_str'] = df['Date'].astype(str)\n",
        "\n",
        "  # Indicators\n",
        "  df['xmr_sma'] = talib.SMA(df['xmr_close'], timeperiod=3)\n",
        "  df['xmr_ma'] = talib.MA(df['xmr_close'], timeperiod=3)\n",
        "  df['xmr_ema'] = talib.EMA(df['xmr_close'], timeperiod=3)\n",
        "  df['xmr_rsi'] = talib.RSI(df['xmr_close'], timeperiod=3)\n",
        "  df['xmr_mom'] = talib.MOM(df['xmr_close'], timeperiod=3)\n",
        "  df['xmr_dema'] = talib.DEMA(df['xmr_close'], timeperiod=3)\n",
        "  df['xmr_tema'] = talib.TEMA(df['xmr_close'], timeperiod=3)\n",
        "\n",
        "  return df\n",
        "\n",
        "\n",
        "df = load_dataset()\n",
        "\n",
        "\n",
        "# Chart\n",
        "indicator_colors = {\n",
        "    'xmr_sma': 'orange',\n",
        "    'xmr_ema': 'violet',\n",
        "    'xmr_wma': 'blue',\n",
        "    'xmr_rsi': 'yellow',\n",
        "    'xmr_mom': 'black',\n",
        "    'xmr_dema': 'red',\n",
        "    'xmr_ma': 'tomato',\n",
        "    'xmr_tema': 'dodgerblue'\n",
        "}\n",
        "\n",
        "def create_chart(df, close_line=False, include_vol=False, indicators={}):\n",
        "  candle = figure(x_axis_type='datetime',\n",
        "                  plot_height=500,\n",
        "                  x_range=(df['Date'].values[0], df['Date'].values[-1]),\n",
        "                  tooltips=[('Date', '@date_str'), ('xmr_open', '@xmr_open'), ('xmr_high', '@xmr_high'), ('xmr_low', '@xmr_low'), ('xmr_close', '@xmr_close')])\n",
        "\n",
        "  candle.segment('Date', 'xmr_low', 'Date', 'xmr_high', color='black', line_width=0.5, source=df)\n",
        "  candle.segment('Date', 'xmr_open', 'Date', 'xmr_close', color='xmr_bar_color', line_width=2 if len(df) > 100 else 6, source=df)\n",
        "\n",
        "  candle.xaxis.axis_label = 'Date'\n",
        "  candle.yaxis.axis_label = 'Price'\n",
        "\n",
        "  if close_line:\n",
        "    candle.line('Date', 'xmr_close', color='black', source=df)\n",
        "\n",
        "  for indicator in indicators:\n",
        "    candle.line('Date', indicator, color=indicator_colors[indicator], line_width=2, source=df, legend_label=indicator)\n",
        "\n",
        "  # Volume Bars\n",
        "  volume = None\n",
        "  if include_vol:\n",
        "    volume = figure(x_axis_type='datetime', plot_height=150, x_range=(df['Date'].values[0], df['Date'].values[-1]))\n",
        "    volume.segment('Date', 0, 'Date', 'xmr_volume', line_width= 2 if len(df) > 100 else 6, line_color='xmr_bar_color', alpha=0.8, source=df)\n",
        "\n",
        "  return column(children=[candle, volume], sizing_mode='stretch_width') if volume else candle\n",
        "\n",
        "talib_indicators = ['xmr_ma', 'xmr_ema', 'xmr_sma', 'xmr_wma', 'xmr_rsi', 'xmr_mom', 'xmr_dema', 'xmr_tema']\n",
        "\n",
        "\n",
        "# Dashboard\n",
        "st.header('XMR :green[Candle]:red[stick] Analysis :tea::coffee:')\n",
        "\n",
        "st.sidebar.subheader('Date Range Selection')\n",
        "col1, col2 = st.sidebar.columns(2)\n",
        "with col1:\n",
        "  start_date = st.date_input(label='Start Date: ', value=datetime.date(2017, 11, 9))\n",
        "with col2:\n",
        "  end_date = st.date_input(label='End Date: ', value=datetime.date(2023, 10, 7))\n",
        "\n",
        "\n",
        "close_line = st.sidebar.checkbox(label='Close Price Line')\n",
        "volume = st.sidebar.checkbox(label='Include Volume')\n",
        "\n",
        "indicators = st.sidebar.multiselect(label='Technical Indicators: ', options=talib_indicators)\n",
        "st.sidebar.caption('Read More About Technial Indicators: https://blog.elearnmarkets.com/best-25-technical-indicators/')\n",
        "\n",
        "sub_df = df.set_index('Date').loc[str(start_date):str(end_date)]\n",
        "sub_df = sub_df.reset_index()\n",
        "\n",
        "fig = create_chart(sub_df, close_line, volume, indicators)\n",
        "st.bokeh_chart(fig, use_container_width=True)\n",
        "\n"
      ],
      "metadata": {
        "colab": {
          "base_uri": "https://localhost:8080/"
        },
        "id": "SwwHSdWjFjK_",
        "outputId": "734ad116-922b-4679-bed0-ccb5042f3046"
      },
      "execution_count": 51,
      "outputs": [
        {
          "output_type": "stream",
          "name": "stdout",
          "text": [
            "Overwriting pages/XMR_Candlestick_Analysis.py\n"
          ]
        }
      ]
    },
    {
      "cell_type": "markdown",
      "source": [
        "# Running the Code"
      ],
      "metadata": {
        "id": "6Hm4SATMaYJd"
      }
    },
    {
      "cell_type": "code",
      "source": [
        "!streamlit run Dataset_Overview.py &>/content/logs.txt & curl ipv4.icanhazip.com"
      ],
      "metadata": {
        "colab": {
          "base_uri": "https://localhost:8080/"
        },
        "id": "yc1dIGOpaUhV",
        "outputId": "25401f01-33a0-43ea-f8d2-7b4c0935d4ee"
      },
      "execution_count": 52,
      "outputs": [
        {
          "output_type": "stream",
          "name": "stdout",
          "text": [
            "34.125.74.7\n"
          ]
        }
      ]
    },
    {
      "cell_type": "code",
      "source": [
        "!npx localtunnel --port 8501"
      ],
      "metadata": {
        "id": "n_8K8jPnaW0l"
      },
      "execution_count": null,
      "outputs": []
    },
    {
      "cell_type": "code",
      "source": [],
      "metadata": {
        "id": "QKcnXmwUKFld"
      },
      "execution_count": null,
      "outputs": []
    }
  ]
}